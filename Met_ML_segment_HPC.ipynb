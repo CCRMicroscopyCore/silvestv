{
 "cells": [
  {
   "cell_type": "markdown",
   "metadata": {},
   "source": [
    "# Met ML HPC segmentation for Vanesa Silvestri\n",
    "### 09/24/20\n",
    "### Use HPC trained Random Forest ML model"
    "### Author: Andy D. Tran, CCR Microscopy Core, LCBG, CCR, NCI"
   ]
  },
  {
   "cell_type": "code",
   "execution_count": 1,
   "metadata": {},
   "outputs": [],
   "source": [
    "#Load libraries\n",
    "\n",
    "import os\n",
    "import numpy as np\n",
    "import cv2\n",
    "import pandas as pd\n",
    "import pickle\n",
    "import matplotlib.pyplot as plt\n",
    "%matplotlib inline\n",
    "%config InlineBackend.figure_format = 'retina'\n",
    "import re\n",
    "\n",
    "from scipy import ndimage as nd\n",
    "from tifffile import imread, imsave\n",
    "from skimage.filters import roberts, sobel, scharr, prewitt\n",
    "from sklearn.model_selection import train_test_split\n",
    "from sklearn.ensemble import RandomForestClassifier\n",
    "from sklearn import metrics\n",
    "from datetime import datetime\n",
    "from skimage.util import img_as_ubyte\n",
    "from skimage.filters import laplace\n",
    "from skimage.filters.rank import entropy, mean\n",
    "from skimage.morphology import disk"
   ]
  },
  {
   "cell_type": "code",
   "execution_count": 2,
   "metadata": {},
   "outputs": [],
   "source": [
    "#Define feature extraction function\n",
    "\n",
    "def feature_extract(img):\n",
    "    df = pd.DataFrame() # Create empty dataframe\n",
    "    \n",
    "    print('Add orginal pixel values') # Reshape pixel values, add to dataframe\n",
    "    org = img.reshape(-1) \n",
    "    df['org_image'] = org\n",
    "    \n",
    "    print('Add Gabor features')  # Generate Gabor features\n",
    "    num = 1              \n",
    "    kernels = []\n",
    "    \n",
    "    for theta in range(2):\n",
    "        theta = theta / 4 * np.pi\n",
    "        for sigma in (1, 3):\n",
    "            for lamda in np.arange(0, np.pi, np.pi / 4):\n",
    "                for gamma in (0.05, 0.5):\n",
    "            \n",
    "                    gabor_label = 'Gabor' + str(num)\n",
    "                    ksize = 21\n",
    "                    kernel = cv2.getGaborKernel((ksize, ksize), sigma, theta, lamda, gamma, 0, ktype=cv2.CV_32F)\n",
    "                    kernels.append(kernel)\n",
    "            \n",
    "                    fimg = cv2.filter2D(img, cv2.CV_16UC3, kernel)\n",
    "                    filtered_img = fimg.reshape(-1)\n",
    "            \n",
    "                    df[gabor_label] = filtered_img\n",
    "                    num += 1\n",
    "                    \n",
    "    print('Add Gaussian blur, sigma = 3')  # Add Gaussian blur, sigma = 3\n",
    "    gauss_tmp1 = nd.gaussian_filter(img, sigma = 3)\n",
    "    gauss1 = gauss_tmp1.reshape(-1)\n",
    "\n",
    "    df['gaussian_s3'] = gauss1\n",
    "    \n",
    "    print('Add Gaussian blur, sigma = 7')  # Add Gaussian blur, sigma = 7\n",
    "    gauss_tmp2 = nd.gaussian_filter(img, sigma = 7)\n",
    "    gauss2 = gauss_tmp2.reshape(-1)\n",
    "\n",
    "    df['gaussian_s7'] = gauss2\n",
    "    \n",
    "    print('Add Gaussian blur, sigma = 11')  # Add Gaussian blur, sigma = 11\n",
    "    gauss_tmp3 = nd.gaussian_filter(img, sigma = 11)\n",
    "    gauss3 = gauss_tmp3.reshape(-1)\n",
    "    \n",
    "    df['gaussian_s11'] = gauss3\n",
    "    \n",
    "    print('Add Gaussian blur, sigma = 21')  # Add Gaussian blur, sigma = 21\n",
    "    gauss_tmp4 = nd.gaussian_filter(img, sigma = 21)\n",
    "    gauss4 = gauss_tmp4.reshape(-1)\n",
    "    \n",
    "    df['gaussian_s21'] = gauss4\n",
    "    \n",
    "    print('Add Gaussian blur, sigma = 31')  # Add Gaussian blur, sigma = 31\n",
    "    gauss_tmp5 = nd.gaussian_filter(img, sigma = 31)\n",
    "    gauss5 = gauss_tmp5.reshape(-1)\n",
    "    \n",
    "    df['gaussian_s31'] = gauss5\n",
    "    \n",
    "    print('Add Median blur, sigma = 11')  # Add Median blur, sigma = 11\n",
    "    median_tmp1 = nd.median_filter(img, size = 11)\n",
    "    median1 = median_tmp1.reshape(-1)\n",
    "\n",
    "    df['median_blur_s11'] = median1\n",
    "    \n",
    "    print('Add Median blur, sigma = 21')  # Add Median blur, sigma = 21\n",
    "    median_tmp2 = nd.median_filter(img, size = 21)\n",
    "    median2 = median_tmp2.reshape(-1)\n",
    "    \n",
    "    df['median_blur_s21'] = median2\n",
    "    \n",
    "    print('Add Median blur, sigma = 31')  # Add Median blur, sigma = 31\n",
    "    median_tmp3 = nd.median_filter(img, size = 31)\n",
    "    median3 = median_tmp3.reshape(-1)\n",
    "    \n",
    "    df['median_blur_s31'] = median3\n",
    "    \n",
    "    print('Add Canny edge detection')  # Add Canny Edge detection\n",
    "    img_ubyte = img_as_ubyte(img)\n",
    "    canny_tmp = cv2.Canny(img_ubyte, 100, 200)\n",
    "    canny_tmp = nd.gaussian_filter(canny_tmp, sigma = 11)\n",
    "    canny = canny_tmp.reshape(-1)\n",
    "    \n",
    "    df['canny_edge'] = canny\n",
    "    \n",
    "    print('Add Roberts edge detection')  # Add Roberts edge detection\n",
    "    edge_roberts_tmp = roberts(img)\n",
    "    edge_roberts_tmp = nd.gaussian_filter(edge_roberts_tmp, sigma = 11)\n",
    "    edge_roberts = edge_roberts_tmp.reshape(-1)\n",
    "    \n",
    "    df['roberts'] = edge_roberts\n",
    "    \n",
    "    print('Add Sobel edge detection')  # Add Sobel edge detection\n",
    "    edge_sobel_tmp = sobel(img)\n",
    "    edge_sobel_tmp = nd.gaussian_filter(edge_sobel_tmp, sigma = 11)\n",
    "    edge_sobel = edge_sobel_tmp.reshape(-1)\n",
    "    \n",
    "    df['sobel'] = edge_sobel\n",
    "    \n",
    "    print('Add Scharr edge detection')  # Add Scharr edge detection\n",
    "    edge_scharr_tmp = scharr(img)\n",
    "    edge_scharr_tmp = nd.gaussian_filter(edge_scharr_tmp, sigma = 11)\n",
    "    edge_scharr = edge_scharr_tmp.reshape(-1)\n",
    "    \n",
    "    df['scharr'] = edge_scharr\n",
    "    \n",
    "    print('Add Prewitt edge detection')  # Add Prewitt edge detection\n",
    "    edge_prewitt_tmp = prewitt(img)\n",
    "    edge_prewitt_tmp = nd.gaussian_filter(edge_prewitt_tmp, sigma = 11)\n",
    "    edge_prewitt = edge_prewitt_tmp.reshape(-1)\n",
    "    \n",
    "    df['prewitt'] = edge_prewitt\n",
    "    \n",
    "    print('Add Entropy filter, disk = 11')  # Add Entropy filter, disk = 11\n",
    "    img_ubyte = img_as_ubyte(img)\n",
    "    entr_img_tmp1 = entropy(img_ubyte, disk(11))\n",
    "    entr_img_tmp1 = nd.gaussian_filter(entr_img_tmp1, sigma = 11)\n",
    "    entr_img1 = entr_img_tmp1.reshape(-1)\n",
    "    \n",
    "    df['entropy_d11'] = entr_img1\n",
    "    \n",
    "    print('Add Entropy filter, disk = 21')  # Add Entropy filter, disk = 21\n",
    "    img_ubyte = img_as_ubyte(img)\n",
    "    entr_img_tmp2 = entropy(img_ubyte, disk(21))\n",
    "    entr_img_tmp2 = nd.gaussian_filter(entr_img_tmp2, sigma = 11)\n",
    "    entr_img2 = entr_img_tmp2.reshape(-1)\n",
    "    \n",
    "    df['entropy_d21'] = entr_img2\n",
    "    \n",
    "    print('Median sigma = 7 followed by Maximum sigma = 7') # Median, sigma = 7 then Maximum, sigma = 7\n",
    "    median_max_tmp1 = nd.median_filter(img, size=7)\n",
    "    median_max_tmp2 = nd.maximum_filter(median_max_tmp1, size=7)\n",
    "    median_max = median_max_tmp2.reshape(-1)\n",
    "    \n",
    "    df['median_max'] = median_max\n",
    "    \n",
    "    print('Add Laplacian filter, sigma = 11, Gaussian, sigma = 11')\n",
    "    laplacian_tmp1 = img - 120\n",
    "    laplacian_tmp2 = laplace(laplacian_tmp1, ksize = 11)\n",
    "    laplacian_tmp3 = nd.gaussian_filter(laplacian_tmp2, sigma = 11)\n",
    "    laplacian = laplacian_tmp3.reshape(-1)\n",
    "    \n",
    "    df['laplace'] = laplacian\n",
    "    \n",
    "    print('Add Mean filter, sigma = 21')\n",
    "    mean_tmp1 = mean(img, disk(21))\n",
    "    mean_final = mean_tmp1.reshape(-1)\n",
    "    \n",
    "    df['mean_d21'] = mean_final\n",
    "    \n",
    "    print('Feature extraction done!')\n",
    "    \n",
    "    return df"
   ]
  },
  {
   "cell_type": "code",
   "execution_count": 3,
   "metadata": {},
   "outputs": [],
   "source": [
    "# Define image loading, model application, and output function\n",
    "\n",
    "def model_apply(img):\n",
    "    print('Opening ' + img)\n",
    "    print('Image feature extraction started: ' + str(datetime.now()))\n",
    "    dapi_path = os.path.join(base_path, img)\n",
    "    dapi = imread(dapi_path)\n",
    "    df = feature_extract(dapi)\n",
    "    print('Image feature extraction finished: ' + str(datetime.now()))\n",
    "    \n",
    "    print('ML model started: ' + str(datetime.now()))\n",
    "    met_tmp = model.predict(df)\n",
    "    met_mask = met_tmp.reshape(dapi.shape)\n",
    "    print('ML model finished: ' + str(datetime.now()))\n",
    "    \n",
    "    plt.figure(figsize = (10, 10))\n",
    "    plt.imshow(met_mask, cmap = 'Accent')\n",
    "    plt.axis('off')\n",
    "    \n",
    "    print('Saving mask: ' + str(datetime.now()))\n",
    "    mask_name = img.replace('.tif', '_mask.tif') \n",
    "    mask_path = os.path.join(output_path, mask_name)\n",
    "    imsave(mask_path, met_mask)"
   ]
  },
  {
   "cell_type": "code",
   "execution_count": 4,
   "metadata": {},
   "outputs": [],
   "source": [
    "# Define paths\n",
    "\n",
    "base_path = '/data/tranad/image/silvestv/images/set_02\n",
    "model_path = '/data/tranad/image/silvestv/ML_model_HPC/met_model_hpc_09'\n",
    "output_path = '/data/tranad/image/silvestv/images/set_02'"
   ]
  },
  {
   "cell_type": "code",
   "execution_count": 5,
   "metadata": {},
   "outputs": [
    {
     "name": "stderr",
     "output_type": "stream",
     "text": [
      "/usr/local/Anaconda/envs/py3.7/lib/python3.7/site-packages/sklearn/base.py:315: UserWarning: Trying to unpickle estimator DecisionTreeClassifier from version 0.23.2 when using version 0.24.0. This might lead to breaking code or invalid results. Use at your own risk.\n",
      "  UserWarning)\n",
      "/usr/local/Anaconda/envs/py3.7/lib/python3.7/site-packages/sklearn/base.py:315: UserWarning: Trying to unpickle estimator RandomForestClassifier from version 0.23.2 when using version 0.24.0. This might lead to breaking code or invalid results. Use at your own risk.\n",
      "  UserWarning)\n"
     ]
    }
   ],
   "source": [
    "# Load pickle model\n",
    "\n",
    "model = pickle.load(open(model_path, 'rb'))"
   ]
  },
  {
   "cell_type": "code",
   "execution_count": 6,
   "metadata": {},
   "outputs": [
    {
     "name": "stdout",
     "output_type": "stream",
     "text": [
      "['20_0214_529_5min_TZ_Lam_C2.tif', '20_0214_529_5min_TZ_Lam_C4.tif', '20_0214_529_5min_TZ_Lam_C1.tif']\n"
     ]
    }
   ],
   "source": [
    "# Get image list\n",
    "\n",
    "img_list = os.listdir(base_path)\n",
    "\n",
    "#img_list = img_list[:5]\n",
    "\n",
    "print(img_list)\n",
    "\n",
    "#dapi_list = []\n",
    "#for img in img_list:\n",
    "#    if re.search('dapi_.+', img):\n",
    "#        dapi_list.append(img)\n",
    "\n",
    "#print(dapi_list)"
   ]
  },
  {
   "cell_type": "code",
   "execution_count": 7,
   "metadata": {},
   "outputs": [],
   "source": [
    "#for image in img_list:\n",
    "#    model_apply(image)"
   ]
  },
  {
   "cell_type": "code",
   "execution_count": 8,
   "metadata": {
    "scrolled": true
   },
   "outputs": [
    {
     "name": "stdout",
     "output_type": "stream",
     "text": [
      "Opening 20_0214_529_5min_TZ_Lam_C4.tif\n",
      "Image feature extraction started: 2021-07-21 11:34:06.742526\n",
      "Add orginal pixel values\n",
      "Add Gabor features\n",
      "Add Gaussian blur, sigma = 3\n",
      "Add Gaussian blur, sigma = 7\n",
      "Add Gaussian blur, sigma = 11\n",
      "Add Gaussian blur, sigma = 21\n",
      "Add Gaussian blur, sigma = 31\n",
      "Add Median blur, sigma = 11\n",
      "Add Median blur, sigma = 21\n",
      "Add Median blur, sigma = 31\n",
      "Add Canny edge detection\n",
      "Add Roberts edge detection\n",
      "Add Sobel edge detection\n",
      "Add Scharr edge detection\n",
      "Add Prewitt edge detection\n",
      "Add Entropy filter, disk = 11\n",
      "Add Entropy filter, disk = 21\n",
      "Median sigma = 7 followed by Maximum sigma = 7\n",
      "Add Laplacian filter, sigma = 11, Gaussian, sigma = 11\n",
      "Add Mean filter, sigma = 21\n"
     ]
    },
    {
     "name": "stderr",
     "output_type": "stream",
     "text": [
      "/usr/local/Anaconda/envs/py3.7/lib/python3.7/site-packages/skimage/filters/rank/generic.py:266: UserWarning: Bad rank filter performance is expected due to a large number of bins (4096), equivalent to an approximate bitdepth of 12.0.\n",
      "  out_dtype)\n"
     ]
    },
    {
     "name": "stdout",
     "output_type": "stream",
     "text": [
      "Feature extraction done!\n",
      "Image feature extraction finished: 2021-07-21 12:23:01.545787\n",
      "ML model started: 2021-07-21 12:23:01.545946\n",
      "ML model finished: 2021-07-21 12:36:32.132591\n",
      "Saving mask: 2021-07-21 12:36:32.600325\n"
     ]
    },
    {
     "data": {
      "image/png": "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",
      "text/plain": [
       "<Figure size 720x720 with 1 Axes>"
      ]
     },
     "metadata": {
      "image/png": {
       "height": 558,
       "width": 251
      },
      "needs_background": "light"
     },
     "output_type": "display_data"
    }
   ],
   "source": [
    "model_apply('20_0214_529_5min_TZ_Lam_C4.tif')"
   ]
  },
  {
   "cell_type": "code",
   "execution_count": null,
   "metadata": {},
   "outputs": [],
   "source": []
  }
 ],
 "metadata": {
  "kernelspec": {
   "display_name": "python/3.7",
   "language": "python",
   "name": "py3.7"
  },
  "language_info": {
   "codemirror_mode": {
    "name": "ipython",
    "version": 3
   },
   "file_extension": ".py",
   "mimetype": "text/x-python",
   "name": "python",
   "nbconvert_exporter": "python",
   "pygments_lexer": "ipython3",
   "version": "3.7.5"
  }
 },
 "nbformat": 4,
 "nbformat_minor": 4
}
